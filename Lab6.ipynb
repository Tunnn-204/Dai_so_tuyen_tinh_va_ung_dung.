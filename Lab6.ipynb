{
 "cells": [
  {
   "cell_type": "markdown",
   "id": "dc8b5c6d",
   "metadata": {},
   "source": [
    "#Bai Thuc Hanh"
   ]
  },
  {
   "cell_type": "code",
   "execution_count": 2,
   "id": "a8380f1b",
   "metadata": {},
   "outputs": [
    {
     "name": "stdout",
     "output_type": "stream",
     "text": [
      "32\n",
      "32\n"
     ]
    }
   ],
   "source": [
    "#1\n",
    "import numpy as np\n",
    "a = np.array([1,2,3])\n",
    "b = np.array([4,5,6])\n",
    "tich = np.inner(a,b)\n",
    "print(tich)\n",
    "dot = np.dot(a,b)\n",
    "print(dot)"
   ]
  },
  {
   "cell_type": "code",
   "execution_count": 3,
   "id": "d1bd697e",
   "metadata": {},
   "outputs": [
    {
     "name": "stdout",
     "output_type": "stream",
     "text": [
      "3.7416573867739413\n",
      "6.0\n"
     ]
    }
   ],
   "source": [
    "#2\n",
    "import numpy as np\n",
    "a = np.array([1,2,-3])\n",
    "KQ = np.linalg.norm(a)\n",
    "print(KQ)\n",
    "b = np.array([1,2,-3])\n",
    "kq = np.linalg.norm(b,1)\n",
    "print(kq)"
   ]
  },
  {
   "cell_type": "code",
   "execution_count": 6,
   "id": "ca3eaef6",
   "metadata": {},
   "outputs": [
    {
     "name": "stdout",
     "output_type": "stream",
     "text": [
      "6.0\n",
      "6.0\n",
      "3.7416573867739413\n",
      "3.7416573867739413\n",
      "3.3019272488946263\n",
      "3.3019272488946263\n",
      "1.0442214818467515\n",
      "inf\n"
     ]
    },
    {
     "name": "stderr",
     "output_type": "stream",
     "text": [
      "/Library/Frameworks/Python.framework/Versions/3.13/lib/python3.13/site-packages/numpy/linalg/_linalg.py:2788: RuntimeWarning: overflow encountered in power\n",
      "  absx **= ord\n"
     ]
    },
    {
     "name": "stdout",
     "output_type": "stream",
     "text": [
      "3.7416573867739413\n",
      "3.0\n",
      "inf\n"
     ]
    },
    {
     "name": "stderr",
     "output_type": "stream",
     "text": [
      "/Library/Frameworks/Python.framework/Versions/3.13/lib/python3.13/site-packages/numpy/linalg/_linalg.py:2788: RuntimeWarning: overflow encountered in power\n",
      "  absx **= ord\n"
     ]
    }
   ],
   "source": [
    "#3\n",
    "import math \n",
    "import numpy as np\n",
    "def chuan(a, p):\n",
    "    a = np.array(a)\n",
    "    return np.sum(np.abs(a)**p)**(1/p)\n",
    "a = np.array([1,2,-3])\n",
    "KQ = chuan(a,1)\n",
    "print(KQ)\n",
    "KQ1 = np.linalg.norm(a,1)\n",
    "print(KQ1)\n",
    "KQ2 = chuan(a,2)\n",
    "print(KQ2)\n",
    "KQ3 = np.linalg.norm(a,2)\n",
    "print(KQ3)\n",
    "KQ4 = chuan(a,3)\n",
    "print(KQ4)\n",
    "KQ5 = np.linalg.norm(a,3)\n",
    "print(KQ5)\n",
    "KQ6 = chuan(a, 1000)\n",
    "print(KQ6)\n",
    "KQ7 = np.linalg.norm(a,1000)\n",
    "print(KQ7)\n",
    "#4\n",
    "from scipy import linalg\n",
    "KQ8 = linalg.norm(a)\n",
    "print(KQ8) \n",
    "KQ9 = linalg.norm(a, 100)\n",
    "print(KQ9)\n",
    "KQ10 = linalg.norm(a, 1000)\n",
    "print(KQ10)\n",
    "\n",
    "\n"
   ]
  },
  {
   "cell_type": "code",
   "execution_count": 7,
   "id": "540ec43b",
   "metadata": {},
   "outputs": [
    {
     "name": "stdout",
     "output_type": "stream",
     "text": [
      "[[ 5  4 -4 -9]\n",
      " [-4  3 -3  8]\n",
      " [ 3 -2 -1  6]]\n",
      "[1.3 0.9 0. ]\n"
     ]
    }
   ],
   "source": [
    "#5\n",
    "import numpy as np\n",
    "m = 10\n",
    "v1 = np.array([5,-4,3])\n",
    "v2 = np.array([4,3,-2])\n",
    "v3 = np.array([-4,-3,-1])\n",
    "v4 = np.array([-9,8,6])\n",
    "mi = np.array([2,5,2,1])\n",
    "M = np.array([v1,v2,v3,v4])\n",
    "MT = M.transpose()\n",
    "print(MT)\n",
    "v = (1.0/m)*MT.dot(mi)\n",
    "print(v)"
   ]
  },
  {
   "cell_type": "code",
   "execution_count": 8,
   "id": "03102d3a",
   "metadata": {},
   "outputs": [
    {
     "name": "stdout",
     "output_type": "stream",
     "text": [
      "x100 = 0.9855072337572738\n",
      "y100 = 0.014492766242729948\n"
     ]
    }
   ],
   "source": [
    "#6\n",
    "import numpy as np\n",
    "A = np.array([[0.998, 0.136],\n",
    "              [0.002, 0.864]])\n",
    "v0 = np.array([0.95, 0.05])\n",
    "A_100 = np.linalg.matrix_power(A, 100)\n",
    "v100 = np.dot(A_100, v0)\n",
    "print(\"x100 =\", v100[0])\n",
    "print(\"y100 =\", v100[1])\n"
   ]
  },
  {
   "cell_type": "code",
   "execution_count": 9,
   "id": "b19fe00f",
   "metadata": {},
   "outputs": [
    {
     "name": "stdout",
     "output_type": "stream",
     "text": [
      "\n",
      "Giải bằng sympy:\n",
      "⎧   68         ⎫\n",
      "⎨x: ──, y: 1/69⎬\n",
      "⎩   69         ⎭\n"
     ]
    }
   ],
   "source": [
    "#7\n",
    "import sympy as sym\n",
    "x, y = sym.symbols('x y')\n",
    "xy = sym.Matrix([x, y])\n",
    "A = sym.Matrix([[1, -68],\n",
    "                [1,  1]])\n",
    "v = sym.Matrix([0, 1])\n",
    "\n",
    "nghiem = sym.solve([A * xy - v], (x, y))\n",
    "print(\"\\nGiải bằng sympy:\")\n",
    "print(sym.pretty(nghiem))\n"
   ]
  },
  {
   "cell_type": "code",
   "execution_count": 10,
   "id": "a066db10",
   "metadata": {},
   "outputs": [
    {
     "name": "stdout",
     "output_type": "stream",
     "text": [
      "A @ u = [-24  20]\n",
      "-4 * u = [-24  20]\n",
      "Au == -4u ? True\n"
     ]
    }
   ],
   "source": [
    "#8\n",
    "import numpy as np\n",
    "A = np.array([[1, 6],\n",
    "              [5, 2]])\n",
    "u = np.array([6, -5])\n",
    "Au = np.dot(A, u)\n",
    "lambda_u = -4 * u\n",
    "print(\"A @ u =\", Au)\n",
    "print(\"-4 * u =\", lambda_u)\n",
    "print(\"Au == -4u ?\", np.allclose(Au, lambda_u))\n"
   ]
  },
  {
   "cell_type": "code",
   "execution_count": 11,
   "id": "fe2e83f0",
   "metadata": {},
   "outputs": [
    {
     "name": "stdout",
     "output_type": "stream",
     "text": [
      "[-7.000, 3.000]\n",
      "[-7, 3]\n"
     ]
    }
   ],
   "source": [
    "#9\n",
    "import sympy\n",
    "x, y, Lambda = sympy.symbols('x y Lambda')\n",
    "I = sympy.eye(2)\n",
    "A = sympy.Matrix([[2,3],[3,-6]])\n",
    "phuongtrinh = sympy.Eq(sympy.det(Lambda*I-A), 0)\n",
    "nghiem = sympy.solve(phuongtrinh)\n",
    "print([sympy.N(phantu,4) for phantu in nghiem])\n",
    "print (sympy.pretty(nghiem))\n",
    "\n"
   ]
  },
  {
   "cell_type": "code",
   "execution_count": 12,
   "id": "0d3fc443",
   "metadata": {},
   "outputs": [
    {
     "name": "stdout",
     "output_type": "stream",
     "text": [
      "[[-0.3  0.9]\n",
      " [ 0.3  0.1]]\n",
      "[[ 2.33333333  9.        ]\n",
      " [-7.          3.        ]]\n",
      "[[ 2.33333333  9.        ]\n",
      " [-7.          3.        ]]\n",
      "[[ 5.03503397e+18  3.50482117e+18]\n",
      " [ 3.50482117e+18 -4.31115581e+18]]\n",
      "[[49  0]\n",
      " [ 0  9]]\n"
     ]
    }
   ],
   "source": [
    "#10\n",
    "import numpy as np\n",
    "import numpy as np\n",
    "A = np.array([[2,3],[3,-6]])\n",
    "D = np.array([[-7,0],[0,3]])\n",
    "P = np.array([[-1.0/3, 3],[1,1]])\n",
    "from numpy import linalg\n",
    "from numpy import linalg as LA\n",
    "P1 = LA.inv(P) \n",
    "print (P1)\n",
    "KQ = A.dot(P)\n",
    "print(KQ)\n",
    "KQ1 = P.dot(D)\n",
    "print(KQ1)\n",
    "KQ2 = P @ (D ** 1000) @ P1\n",
    "print(KQ2)\n",
    "print (D **2)\n"
   ]
  },
  {
   "cell_type": "markdown",
   "id": "2e62ab4f",
   "metadata": {},
   "source": [
    "#Bai Tap Chuong"
   ]
  },
  {
   "cell_type": "code",
   "execution_count": 15,
   "id": "0d899d9b",
   "metadata": {},
   "outputs": [
    {
     "name": "stdout",
     "output_type": "stream",
     "text": [
      "Cách a - np.sqrt(a.dot(a)) = 3.7416573867739413\n",
      "Cách b - np.sqrt(a @ a) = 3.7416573867739413\n",
      "Cách c - np.sqrt(np.inner(a,a)) = 3.7416573867739413\n",
      "Cách d - lambda x, sqrt(sum(i**2)) = 3.7416573867739413\n"
     ]
    }
   ],
   "source": [
    "#BT1\n",
    "import numpy as np\n",
    "import math\n",
    "a = np.array([1, 2, 3])\n",
    "mag_a = np.sqrt(a.dot(a))\n",
    "print(\"Cách a - np.sqrt(a.dot(a)) =\", mag_a)\n",
    "mag_b = np.sqrt(a @ a)\n",
    "print(\"Cách b - np.sqrt(a @ a) =\", mag_b)\n",
    "mag_c = np.sqrt(np.inner(a, a))\n",
    "print(\"Cách c - np.sqrt(np.inner(a,a)) =\", mag_c)\n",
    "mag_d_func = lambda x: math.sqrt(sum(i**2 for i in x))\n",
    "mag_d = mag_d_func(a)\n",
    "print(\"Cách d - lambda x, sqrt(sum(i**2)) =\", mag_d)\n"
   ]
  },
  {
   "cell_type": "code",
   "execution_count": 13,
   "id": "4bdde34b",
   "metadata": {},
   "outputs": [
    {
     "name": "stdout",
     "output_type": "stream",
     "text": [
      "a) Khoảng cách ||u - v|| = 2.8284271247461903\n",
      "b) Góc giữa u và v (độ) = 10.304846468766044\n",
      "c) Phép chiếu trực giao p =  [1.32 1.76]\n"
     ]
    }
   ],
   "source": [
    "#BT2\n",
    "import numpy as np\n",
    "from numpy.linalg import norm\n",
    "from math import acos, degrees\n",
    "def nhap_vector():\n",
    "    u = np.array([float(x) for x in input(\"Nhập vector u (cách nhau bởi dấu cách): \").split()])\n",
    "    v = np.array([float(x) for x in input(\"Nhập vector v (cách nhau bởi dấu cách): \").split()])\n",
    "    return u, v1\n",
    "# a. Tính khoảng cách giữa 2 vector\n",
    "def tinh_khoang_cach(u, v):\n",
    "    return norm(u - v)\n",
    "# b. Tính góc giữa 2 vector (kết quả trả về đơn vị độ)\n",
    "def tinh_goc(u, v):\n",
    "    dot_uv = np.dot(u, v)\n",
    "    cos_theta = dot_uv / (norm(u) * norm(v))\n",
    "    cos_theta = np.clip(cos_theta, -1, 1)\n",
    "    return degrees(acos(cos_theta))\n",
    "# c. Tính phép chiếu trực giao p\n",
    "def phep_chieu(u, v):\n",
    "    dot_uv = np.dot(u, v)\n",
    "    dot_vv = np.dot(v, v)\n",
    "    return (dot_uv / dot_vv) * v\n",
    "u, v = nhap_vector()\n",
    "kc = tinh_khoang_cach(u, v)\n",
    "print(\"a) Khoảng cách ||u - v|| =\", kc)\n",
    "goc = tinh_goc(u, v)\n",
    "print(\"b) Góc giữa u và v (độ) =\", goc)\n",
    "p = phep_chieu(u, v)\n",
    "print(\"c) Phép chiếu trực giao p = \", p)\n"
   ]
  }
 ],
 "metadata": {
  "kernelspec": {
   "display_name": "Python 3",
   "language": "python",
   "name": "python3"
  },
  "language_info": {
   "codemirror_mode": {
    "name": "ipython",
    "version": 3
   },
   "file_extension": ".py",
   "mimetype": "text/x-python",
   "name": "python",
   "nbconvert_exporter": "python",
   "pygments_lexer": "ipython3",
   "version": "3.13.0"
  }
 },
 "nbformat": 4,
 "nbformat_minor": 5
}
