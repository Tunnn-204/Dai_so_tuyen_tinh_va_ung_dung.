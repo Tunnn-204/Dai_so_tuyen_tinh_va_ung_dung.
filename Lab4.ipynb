{
 "cells": [
  {
   "cell_type": "markdown",
   "id": "aa53c409",
   "metadata": {},
   "source": [
    "#Bai Thuc Hanh"
   ]
  },
  {
   "cell_type": "code",
   "execution_count": 9,
   "id": "75302590",
   "metadata": {},
   "outputs": [
    {
     "data": {
      "text/plain": [
       "1"
      ]
     },
     "execution_count": 9,
     "metadata": {},
     "output_type": "execute_result"
    }
   ],
   "source": [
    "#1\n",
    "import numpy as np\n",
    "n = 4\n",
    "X = np.array(range(1,n+1))\n",
    "sigma = np.array([4,3,2,1])\n",
    "def sgn_by_def(sigma):\n",
    "    ket_qua = 1.0\n",
    "    for i in range(len(X)-1):\n",
    "            for j in range(i+1, len(X)):\n",
    "                ket_qua = ket_qua * ((X[i]-X[j])/(sigma[i] - sigma[j]))\n",
    "    return int(ket_qua)\n",
    "sigma = np.array([2, 1, 3, 4])\n",
    "sgn_by_def(sigma)\n",
    "sigma = np.array([1, 2, 3, 4])\n",
    "sgn_by_def(sigma)\n",
    "sigma = np.array([4, 3, 2, 1])\n",
    "sgn_by_def(sigma)\n",
    "\n",
    "\n"
   ]
  },
  {
   "cell_type": "code",
   "execution_count": 1,
   "id": "3b6fe852",
   "metadata": {},
   "outputs": [
    {
     "name": "stdout",
     "output_type": "stream",
     "text": [
      "[(1, 2, 3), (1, 3, 2), (2, 1, 3), (2, 3, 1), (3, 1, 2), (3, 2, 1)]\n",
      "0\n",
      "a11a22 - a12a21\n",
      "a11a22a33 - a11a23a32 - a12a21a33 + a12a23a31 + a13a21a32 - a13a22a31\n",
      "Định thức = 85\n"
     ]
    }
   ],
   "source": [
    "#2\n",
    "#B1\n",
    "from itertools import permutations\n",
    "n = 3\n",
    "X = []\n",
    "for i in range (1, n+1):\n",
    "    X.append(i)\n",
    "Sn = list(permutations(X))\n",
    "print(Sn)\n",
    "#B2\n",
    "det = 0 \n",
    "print(det)\n",
    "#B3\n",
    "#Code 1\n",
    "import numpy as np\n",
    "def sgn_by_def(sigma):\n",
    "    n = len(sigma)\n",
    "    visited = [False] * n\n",
    "    sign = 1\n",
    "    for i in range(n):\n",
    "        if not visited[i]:\n",
    "            cycle_length = 0\n",
    "            j = i\n",
    "            while not visited[j]:\n",
    "                visited[j] = True\n",
    "                j = sigma[j] - 1  \n",
    "                cycle_length += 1\n",
    "            if cycle_length % 2 == 0 and cycle_length > 0:\n",
    "                sign *= -1\n",
    "    return sign\n",
    "def phatsinh_dinhthuc(n):\n",
    "    X = list(range(1, n+1))\n",
    "    Sn = list(permutations(X))\n",
    "    dinhthuc = \"\"\n",
    "    for idx, sn in enumerate(Sn):\n",
    "        product = \"\"\n",
    "        for i in range(n):\n",
    "            product += f\"a{i+1}{sn[i]}\"\n",
    "        dau = sgn_by_def(list(sn))\n",
    "        if idx == 0:\n",
    "            product = (\"\" if dau == 1 else \"-\") + product\n",
    "        else:\n",
    "            product = (\" + \" if dau == 1 else \" - \") + product\n",
    "        dinhthuc += product\n",
    "    return dinhthuc\n",
    "print(phatsinh_dinhthuc(2))\n",
    "print(phatsinh_dinhthuc(3))\n",
    "#Code 2\n",
    "import numpy as np\n",
    "from itertools import permutations\n",
    "\n",
    "def sgn_by_def(p):\n",
    "    inversions = 0\n",
    "    n = len(p)\n",
    "    for i in range(n):\n",
    "        for j in range(i+1, n):\n",
    "            if p[i] > p[j]:\n",
    "                inversions += 1\n",
    "    return 1 if inversions % 2 == 0 else -1\n",
    "def tinhtoan_dinhthuc(A):\n",
    "    n = A.shape[0]\n",
    "    dinhthuc = 0\n",
    "    for sn in permutations(range(n)):\n",
    "        sign = sgn_by_def(sn)\n",
    "        product = 1\n",
    "        for i in range(n):\n",
    "            product *= A[i][sn[i]]\n",
    "        dinhthuc += sign * product\n",
    "    return dinhthuc\n",
    "mattran = np.array([[3, 5, -8], [4, 12, -1], [2, 5, 3]]) \n",
    "print(\"Định thức =\", tinhtoan_dinhthuc(mattran))\n",
    "\n"
   ]
  },
  {
   "cell_type": "code",
   "execution_count": null,
   "id": "45bbf1f3",
   "metadata": {},
   "outputs": [
    {
     "name": "stdout",
     "output_type": "stream",
     "text": [
      "-14.0 -28.0 14.000000000000004\n",
      "Hai nghiem cua phuong trinh la:  2.0 -1.0000000000000002\n",
      "Định thức (theo hàm tinhtoan_dinhthuc):\n",
      "detA = -14\n",
      "detA1 = -28\n",
      "detA2 = 14\n"
     ]
    }
   ],
   "source": [
    "#3\n",
    "import numpy as np\n",
    "A = np.array([[4, -2],[3, -5]])\n",
    "A1 = np.array([[10, -2],[11, -5]])\n",
    "A2 = np.array([[4, 10],[3,11]])\n",
    "from scipy import linalg \n",
    "detA = linalg.det(A)\n",
    "detA1 = linalg.det(A1)\n",
    "detA2 = linalg.det(A2)\n",
    "print(detA, detA1, detA2)\n",
    "if (detA != 0):\n",
    "    x1 = detA1 / detA\n",
    "    x2 = detA2 / detA\n",
    "    print(\"Hai nghiem cua phuong trinh la: \", x1, x2)\n",
    "from itertools import permutations\n",
    "\n",
    "def sgn_by_def(p):\n",
    "    inversions = 0\n",
    "    n = len(p)\n",
    "    for i in range(n):\n",
    "        for j in range(i + 1, n):\n",
    "            if p[i] > p[j]:\n",
    "                inversions += 1\n",
    "    return 1 if inversions % 2 == 0 else -1\n",
    "\n",
    "def tinhtoan_dinhthuc(A):\n",
    "    n = A.shape[0]\n",
    "    dinhthuc = 0\n",
    "    for sn in permutations(range(n)):\n",
    "        sign = sgn_by_def(sn)\n",
    "        product = 1\n",
    "        for i in range(n):\n",
    "            product *= A[i][sn[i]]\n",
    "        dinhthuc += sign * product\n",
    "    return dinhthuc\n",
    "print(\"Định thức (theo hàm tinhtoan_dinhthuc):\")\n",
    "print(\"detA =\", tinhtoan_dinhthuc(A))\n",
    "print(\"detA1 =\", tinhtoan_dinhthuc(A1))\n",
    "print(\"detA2 =\", tinhtoan_dinhthuc(A2))\n",
    "    "
   ]
  },
  {
   "cell_type": "code",
   "execution_count": 3,
   "id": "24a0be65",
   "metadata": {},
   "outputs": [
    {
     "name": "stdout",
     "output_type": "stream",
     "text": [
      "== KẾT QUẢ BẰNG scipy.linalg.det() ==\n",
      "detA = 7.401486830834375e-17\n",
      "detA1 = 1.9243865760169383e-15\n",
      "detA2 = 2.220446049250313e-15\n",
      "detA3 = 0.0\n",
      "Nghiệm của phương trình (scipy):\n",
      "x = 26.00000000000001 y = 30.000000000000007 z = 0.0\n",
      "\n",
      "== KẾT QUẢ BẰNG tinhtoan_dinhthuc() ==\n",
      "detA = 0\n",
      "detA1 = 0\n",
      "detA2 = 0\n",
      "detA3 = 0\n",
      "Hệ phương trình vô nghiệm hoặc vô số nghiệm.\n"
     ]
    }
   ],
   "source": [
    "#4\n",
    "import numpy as np\n",
    "from scipy import linalg\n",
    "from itertools import permutations\n",
    "A = np.array([[-1, 2, -3],\n",
    "              [ 2, -2, 1],\n",
    "              [ 3, -4, 4]])\n",
    "\n",
    "A1 = np.array([[1, 2, -3],\n",
    "               [3, -2, 1],\n",
    "               [2, -4, 4]])\n",
    "\n",
    "A2 = np.array([[-1, 1, -3],\n",
    "               [ 2, 3, 1],\n",
    "               [ 3, 2, 4]])\n",
    "\n",
    "A3 = np.array([[-1, 2, 1],\n",
    "               [ 2, -2, 3],\n",
    "               [ 3, -4, 2]])\n",
    "detA = linalg.det(A)\n",
    "detA1 = linalg.det(A1)\n",
    "detA2 = linalg.det(A2)\n",
    "detA3 = linalg.det(A3)\n",
    "print(\"== KẾT QUẢ BẰNG scipy.linalg.det() ==\")\n",
    "print(\"detA =\", detA)\n",
    "print(\"detA1 =\", detA1)\n",
    "print(\"detA2 =\", detA2)\n",
    "print(\"detA3 =\", detA3)\n",
    "if detA != 0:\n",
    "    x = detA1 / detA\n",
    "    y = detA2 / detA\n",
    "    z = detA3 / detA\n",
    "    print(\"Nghiệm của phương trình (scipy):\")\n",
    "    print(\"x =\", x, \"y =\", y, \"z =\", z)\n",
    "else:\n",
    "    print(\"Hệ phương trình vô nghiệm hoặc vô số nghiệm.\")\n",
    "def sgn_by_def(p):\n",
    "    inversions = 0\n",
    "    n = len(p)\n",
    "    for i in range(n):\n",
    "        for j in range(i + 1, n):\n",
    "            if p[i] > p[j]:\n",
    "                inversions += 1\n",
    "    return 1 if inversions % 2 == 0 else -1\n",
    "def tinhtoan_dinhthuc(A):\n",
    "    n = A.shape[0]\n",
    "    det = 0\n",
    "    for perm in permutations(range(n)):\n",
    "        sign = sgn_by_def(perm)\n",
    "        prod = 1\n",
    "        for i in range(n):\n",
    "            prod *= A[i][perm[i]]\n",
    "        det += sign * prod\n",
    "    return det\n",
    "det = tinhtoan_dinhthuc(A)\n",
    "detX = tinhtoan_dinhthuc(A1)\n",
    "detY = tinhtoan_dinhthuc(A2)\n",
    "detZ = tinhtoan_dinhthuc(A3)\n",
    "print(\"\\n== KẾT QUẢ BẰNG tinhtoan_dinhthuc() ==\")\n",
    "print(\"detA =\", det)\n",
    "print(\"detA1 =\", detX)\n",
    "print(\"detA2 =\", detY)\n",
    "print(\"detA3 =\", detZ)\n",
    "\n",
    "if det != 0:\n",
    "    x = detX / det\n",
    "    y = detY / det\n",
    "    z = detZ / det\n",
    "    print(\"Nghiệm của phương trình (tự viết):\")\n",
    "    print(\"x =\", x, \"y =\", y, \"z =\", z)\n",
    "else:\n",
    "    print(\"Hệ phương trình vô nghiệm hoặc vô số nghiệm.\")\n"
   ]
  },
  {
   "cell_type": "code",
   "execution_count": 4,
   "id": "ecd27a05",
   "metadata": {},
   "outputs": [
    {
     "data": {
      "text/latex": [
       "$\\displaystyle 1.5$"
      ],
      "text/plain": [
       "1.50000000000000"
      ]
     },
     "execution_count": 4,
     "metadata": {},
     "output_type": "execute_result"
    }
   ],
   "source": [
    "#5\n",
    "import sympy as sp\n",
    "TG = sp.Matrix([[1, 0, 1],[4, 3, 1], [2, 2, 1]])\n",
    "1/2*TG.det()"
   ]
  },
  {
   "cell_type": "code",
   "execution_count": 5,
   "id": "438b3413",
   "metadata": {},
   "outputs": [
    {
     "name": "stdout",
     "output_type": "stream",
     "text": [
      "Diện tích đa giác (m²): 139.57\n"
     ]
    }
   ],
   "source": [
    "#Bai ung dung 1\n",
    "def tinh_dien_tich_da_giac(dinh):\n",
    "    n = len(dinh)\n",
    "    dien_tich = 0\n",
    "    for i in range(n):\n",
    "        x1, y1 = dinh[i]\n",
    "        x2, y2 = dinh[(i + 1) % n]  \n",
    "        dien_tich += (x1 * y2 - x2 * y1)\n",
    "    return abs(dien_tich) / 2\n",
    "danh_sach_dinh = [\n",
    "    (1181128.25, 603263.70), \n",
    "    (1181136.18, 603266.68),  \n",
    "    (1181130.97, 603279.69),  \n",
    "    (1181125.77, 603281.91),  \n",
    "    (1181122.06, 603280.42)   \n",
    "]\n",
    "dien_tich = tinh_dien_tich_da_giac(danh_sach_dinh)\n",
    "print(\"Diện tích đa giác (m²):\", round(dien_tich, 2))\n"
   ]
  },
  {
   "cell_type": "code",
   "execution_count": 6,
   "id": "032b2f5b",
   "metadata": {},
   "outputs": [
    {
     "name": "stdout",
     "output_type": "stream",
     "text": [
      "Định thức: -72\n",
      "Thể tích tứ diện là: 12.0000000000000\n"
     ]
    }
   ],
   "source": [
    "#Bai ung dung 2\n",
    "from sympy import Matrix\n",
    "M = Matrix([\n",
    "    [0, 4, 1, 1],\n",
    "    [4, 0, 0, 1],\n",
    "    [3, 5, 2, 1],\n",
    "    [2, 2, 5, 1]\n",
    "])\n",
    "det = M.det()\n",
    "V = abs(1/6 * det)\n",
    "print(\"Định thức:\", det)\n",
    "print(\"Thể tích tứ diện là:\", V)\n"
   ]
  },
  {
   "cell_type": "code",
   "execution_count": 7,
   "id": "d30eeed8",
   "metadata": {},
   "outputs": [
    {
     "name": "stdout",
     "output_type": "stream",
     "text": [
      "4 điểm nằm trên cùng một mặt phẳng.\n"
     ]
    }
   ],
   "source": [
    "#Bai ung dung 3\n",
    "from sympy import Matrix\n",
    "def kiem_tra_dong_phang(p1, p2, p3, p4):\n",
    "    M = Matrix([\n",
    "        [*p1, 1],\n",
    "        [*p2, 1],\n",
    "        [*p3, 1],\n",
    "        [*p4, 1]\n",
    "    ])\n",
    "    det = M.det()\n",
    "    if det == 0:\n",
    "        return True\n",
    "    else:\n",
    "        return False\n",
    "A = (1, 2, 3)\n",
    "B = (4, 5, 6)\n",
    "C = (7, 8, 9)\n",
    "D = (10, 11, 12)\n",
    "if kiem_tra_dong_phang(A, B, C, D):\n",
    "    print(\"4 điểm nằm trên cùng một mặt phẳng.\")\n",
    "else:\n",
    "    print(\"4 điểm không nằm trên cùng một mặt phẳng.\")\n"
   ]
  },
  {
   "cell_type": "code",
   "execution_count": 8,
   "id": "fc8b45af",
   "metadata": {},
   "outputs": [
    {
     "name": "stdout",
     "output_type": "stream",
     "text": [
      "Phương trình mặt phẳng là:\n",
      "-4*x + 3*y - 5*z - 3 = 0\n"
     ]
    }
   ],
   "source": [
    "#Bai ung dung 4\n",
    "from sympy import symbols, Matrix, simplify\n",
    "x, y, z = symbols('x y z')\n",
    "A = [-1, 3, 2]\n",
    "B = [0, 1, 0]\n",
    "C = [-2, 0, 1]\n",
    "MP = Matrix([\n",
    "    [x,  y,  z,  1],\n",
    "    [*A, 1],\n",
    "    [*B, 1],\n",
    "    [*C, 1]\n",
    "])\n",
    "dinh_thuc = MP.det()\n",
    "phuong_trinh = simplify(dinh_thuc)\n",
    "print(\"Phương trình mặt phẳng là:\")\n",
    "print(phuong_trinh, \"= 0\")\n"
   ]
  },
  {
   "cell_type": "markdown",
   "id": "761724e3",
   "metadata": {},
   "source": [
    "#Bai Tap "
   ]
  },
  {
   "cell_type": "code",
   "execution_count": 9,
   "id": "2374d2f9",
   "metadata": {},
   "outputs": [
    {
     "name": "stdout",
     "output_type": "stream",
     "text": [
      "Ma trận hệ số kép (Cofactor matrix):\n",
      "Matrix([[6, -3, 7], [2, -1, -1], [-10, 10, -10]])\n",
      "\n",
      "Ma trận liên hợp (Adjoint matrix):\n",
      "Matrix([[6, 2, -10], [-3, -1, 10], [7, -1, -10]])\n"
     ]
    }
   ],
   "source": [
    "#Bai tap 1\n",
    "from sympy import Matrix\n",
    "A = Matrix([\n",
    "    [2, 3, 1],\n",
    "    [4, 1, -3],\n",
    "    [1, 2, 0]\n",
    "])\n",
    "cofactor_matrix = A.cofactor_matrix()\n",
    "print(\"Ma trận hệ số kép (Cofactor matrix):\")\n",
    "print(cofactor_matrix)\n",
    "adjoint_matrix = A.adjugate()  \n",
    "print(\"\\nMa trận liên hợp (Adjoint matrix):\")\n",
    "print(adjoint_matrix)\n"
   ]
  },
  {
   "cell_type": "code",
   "execution_count": 10,
   "id": "f6ae7f7d",
   "metadata": {},
   "outputs": [
    {
     "name": "stdout",
     "output_type": "stream",
     "text": [
      "Phương trình đường tròn qua 3 điểm là:\n",
      "-10*x**2 + 60*x - 10*y**2 + 40*y - 80 = 0\n"
     ]
    }
   ],
   "source": [
    "#Bai tap 2\n",
    "from sympy import symbols, Matrix, simplify\n",
    "x, y = symbols('x y')\n",
    "A = (1, 1)\n",
    "B = (2, 4)\n",
    "C = (5, 3)\n",
    "M = Matrix([\n",
    "    [x**2 + y**2, x, y, 1],\n",
    "    [A[0]**2 + A[1]**2, A[0], A[1], 1],\n",
    "    [B[0]**2 + B[1]**2, B[0], B[1], 1],\n",
    "    [C[0]**2 + C[1]**2, C[0], C[1], 1]\n",
    "])\n",
    "det = simplify(M.det())\n",
    "print(\"Phương trình đường tròn qua 3 điểm là:\")\n",
    "print(det, \"= 0\")\n"
   ]
  }
 ],
 "metadata": {
  "kernelspec": {
   "display_name": "Python 3",
   "language": "python",
   "name": "python3"
  },
  "language_info": {
   "codemirror_mode": {
    "name": "ipython",
    "version": 3
   },
   "file_extension": ".py",
   "mimetype": "text/x-python",
   "name": "python",
   "nbconvert_exporter": "python",
   "pygments_lexer": "ipython3",
   "version": "3.13.0"
  }
 },
 "nbformat": 4,
 "nbformat_minor": 5
}
