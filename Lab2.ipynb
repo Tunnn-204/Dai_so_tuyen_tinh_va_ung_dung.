{
 "cells": [
  {
   "cell_type": "markdown",
   "id": "4125d700",
   "metadata": {
    "notebookRunGroups": {
     "groupValue": "1"
    }
   },
   "source": [
    "#Bai Thuc Hanh"
   ]
  },
  {
   "cell_type": "code",
   "execution_count": null,
   "id": "52fa5a00",
   "metadata": {},
   "outputs": [],
   "source": [
    "#Bai1\n",
    "def scale(a, v):\n",
    "    return [a*vi for vi in v]\n",
    "v = [3, 5, 7]\n",
    "print(scale(10, v))\n",
    "#2\n",
    "def sumvector(v, w):\n",
    "    return [vi+wi for (vi, wi) in zip(v, w)]\n",
    "v = [3, 5, 7]\n",
    "w = [2, 4, 6]\n",
    "print(sumvector(v, w))\n",
    "#3\n",
    "def dotvector(v, w):\n",
    "    return sum([vi*wi for (vi, wi) in zip(v, w)])\n",
    "print(dotvector(v, w))\n",
    "#4\n",
    "def lenvector(v):\n",
    "    return dotvector(v, v)\n",
    "print(lenvector(w))"
   ]
  },
  {
   "cell_type": "code",
   "execution_count": null,
   "id": "5dcfdfbf",
   "metadata": {},
   "outputs": [],
   "source": [
    "#Bai 2 \n",
    "import numpy as np\n",
    "scores = np.array([-1, 1, 2, -3, 5, -4])\n",
    "print(\"Mảng scores:\", scores)\n",
    "print(\"scores >= 0:\", (scores >= 0))\n",
    "print(\"scores < 0:\", (scores < 0))\n",
    "result_2_classes = np.select(\n",
    "    [scores >= 0, scores < 0],\n",
    "    np.array(['so duong', 'so am'], dtype=object)\n",
    ")\n",
    "print(\"Phân loại 2 loại:\", result_2_classes)\n",
    "scores = np.array([-1, 1, 2, 0, -3, 5, 0, -4])\n",
    "print(\"Mảng scores mới:\", scores)\n",
    "result_3_classes = np.select(\n",
    "    [scores > 0, scores == 0, scores < 0],\n",
    "    np.array(['so duong', 'so 0', 'so am'], dtype=object)\n",
    ")\n",
    "print(\"Phân loại 3 loại:\", result_3_classes)"
   ]
  },
  {
   "cell_type": "code",
   "execution_count": null,
   "id": "79d7c335",
   "metadata": {},
   "outputs": [
    {
     "name": "stdout",
     "output_type": "stream",
     "text": [
      "[[3 4]\n",
      " [5 6]]\n",
      "[[0.62674929 0.31393015 0.14519642 0.39771372 0.19773783 0.29380521\n",
      "  0.84012895]\n",
      " [0.54495471 0.33771046 0.30992883 0.81083973 0.28798059 0.53537333\n",
      "  0.51351629]\n",
      " [0.92000344 0.08202527 0.94742148 0.07538687 0.0922387  0.5639453\n",
      "  0.51736686]\n",
      " [0.67484164 0.58310687 0.33636179 0.07540802 0.59543144 0.37086755\n",
      "  0.77177502]\n",
      " [0.73867321 0.52118651 0.07422104 0.27306473 0.19449803 0.8016914\n",
      "  0.65026744]]\n",
      "[[0.98645445 0.42652629]\n",
      " [0.02096482 0.63424553]]\n",
      "[[1.+5.j 0.+2.j 0.+3.j]\n",
      " [4.+0.j 5.+0.j 6.+0.j]]\n",
      "[[1.+5.j 0.+2.j 0.+3.j]\n",
      " [4.+0.j 5.+0.j 6.+0.j]]\n",
      "[[0.98645445 0.02096482]\n",
      " [0.42652629 0.63424553]]\n",
      "[[-1  0  0]\n",
      " [ 0 -2  0]\n",
      " [ 1  5 -2]]\n",
      "[[-1  3  2]\n",
      " [ 0 -2  1]\n",
      " [ 0  0 -2]]\n",
      "[-1 -2 -2]\n",
      "[[-1  0  0]\n",
      " [ 0 -2  0]\n",
      " [ 0  0 -2]]\n"
     ]
    }
   ],
   "source": [
    "#Bai 3\n",
    "#1\n",
    "import numpy as np #Lệnh để nạp thư viện numpy vào bộ nhớ để xử lý.\n",
    "from scipy import linalg, sparse #Tải 2 thư viện linalg và sparse của scipy vào bộ nhớ để sử dụng.\n",
    "#2\n",
    "D = np.array([[3,4],[5,6]]) #Tạo ma trận từ danh sách\n",
    "print(D)\n",
    "#3\n",
    "C = np.array(np.random.random((5, 7))) #Ma trận ngẫu nhiên 5x7\n",
    "print(C)\n",
    "#4\n",
    "A = np.array(np.random.random((2, 2))) #Ma trận ngẫu nhiên 2x2\n",
    "print(A)\n",
    "#5\n",
    "b = np.array([(1+5j, 2j, 3j), (4, 5, 6)]) #Chuyển array thành matrix\n",
    "B = np.asmatrix(b)\n",
    "print(b)\n",
    "print(B)\n",
    "#6\n",
    "A.T \n",
    "print(A.T)\n",
    "#7\n",
    "#8\n",
    "linalg.inv(A)\n",
    "M = np.array([[-1, 3, 2],[0, -2, 1],[1, 5, -2]])\n",
    "M_lower = np.tril(M)\n",
    "print(M_lower)\n",
    "#9\n",
    "M = np.array([[-1, 3, 2],[0, -2, 1],[1, 5, -2]])\n",
    "M_upper = np.triu(M)\n",
    "print(M_upper)\n",
    "#10\n",
    "M = np.array([[-1, 3, 2],[0, -2, 1],[1, 5, -2]])\n",
    "v_diag = np.diag(M) # vector duong cheo\n",
    "print(v_diag)\n",
    "M_diag = np.diag(v_diag)\n",
    "print(M_diag)"
   ]
  },
  {
   "cell_type": "code",
   "execution_count": null,
   "id": "21f7178e",
   "metadata": {},
   "outputs": [],
   "source": [
    "#Bai 4 \n",
    "import sympy as sp \n",
    "x = sp.Symbol('x')\n",
    "y = sp.Symbol('y')\n",
    "z = sp.Symbol('z')\n",
    "a = sp.solve([x*x+2-6, y-1-6, 2*x*x-8, z*z+4-5, y-z-8], [x, y, z])\n",
    "print(a)"
   ]
  },
  {
   "cell_type": "code",
   "execution_count": null,
   "id": "566788b6",
   "metadata": {},
   "outputs": [
    {
     "name": "stdout",
     "output_type": "stream",
     "text": [
      "[[ 0.  1.  2.  3.  4.  5.]\n",
      " [ 6.  7.  8.  9. 10. 11.]\n",
      " [12. 13. 14. 15. 16. 17.]\n",
      " [18. 19. 20. 21. 22. 23.]\n",
      " [24. 25. 26. 27. 28. 29.]\n",
      " [30. 31. 32. 33. 34. 35.]]\n",
      "16\n",
      "36\n",
      "[ 0.  7. 14. 21. 28. 35.]\n",
      "[[16. 17. 18. 19. 20. 21.]\n",
      " [22. 23. 24. 25. 26. 27.]\n",
      " [28. 29. 30. 31. 32. 33.]\n",
      " [34. 35. 36. 37. 38. 39.]\n",
      " [40. 41. 42. 43. 44. 45.]\n",
      " [46. 47. 48. 49. 50. 51.]]\n",
      "[ 406.  532.  658.  784.  910. 1036.]\n",
      "[[1. 2. 3. 4. 5. 6.]\n",
      " [1. 0. 1. 0. 1. 0.]]\n",
      "[[1. 1.]\n",
      " [2. 0.]\n",
      " [3. 1.]\n",
      " [4. 0.]\n",
      " [5. 1.]\n",
      " [6. 0.]]\n",
      "[[ 406.   54.]\n",
      " [ 532.   72.]\n",
      " [ 658.   90.]\n",
      " [ 784.  108.]\n",
      " [ 910.  126.]\n",
      " [1036.  144.]]\n"
     ]
    },
    {
     "ename": "LinAlgError",
     "evalue": "Singular matrix",
     "output_type": "error",
     "traceback": [
      "\u001b[31m---------------------------------------------------------------------------\u001b[39m",
      "\u001b[31mLinAlgError\u001b[39m                               Traceback (most recent call last)",
      "\u001b[36mCell\u001b[39m\u001b[36m \u001b[39m\u001b[32mIn[30]\u001b[39m\u001b[32m, line 23\u001b[39m\n\u001b[32m     21\u001b[39m \u001b[38;5;28mprint\u001b[39m(F)\n\u001b[32m     22\u001b[39m \u001b[38;5;28mprint\u001b[39m(G)\n\u001b[32m---> \u001b[39m\u001b[32m23\u001b[39m b = \u001b[43mnp\u001b[49m\u001b[43m.\u001b[49m\u001b[43mlinalg\u001b[49m\u001b[43m.\u001b[49m\u001b[43minv\u001b[49m\u001b[43m(\u001b[49m\u001b[43mA\u001b[49m\u001b[43m)\u001b[49m\n\u001b[32m     24\u001b[39m \u001b[38;5;28mprint\u001b[39m(b)\n",
      "\u001b[36mFile \u001b[39m\u001b[32m/Library/Frameworks/Python.framework/Versions/3.13/lib/python3.13/site-packages/numpy/linalg/_linalg.py:609\u001b[39m, in \u001b[36minv\u001b[39m\u001b[34m(a)\u001b[39m\n\u001b[32m    606\u001b[39m signature = \u001b[33m'\u001b[39m\u001b[33mD->D\u001b[39m\u001b[33m'\u001b[39m \u001b[38;5;28;01mif\u001b[39;00m isComplexType(t) \u001b[38;5;28;01melse\u001b[39;00m \u001b[33m'\u001b[39m\u001b[33md->d\u001b[39m\u001b[33m'\u001b[39m\n\u001b[32m    607\u001b[39m \u001b[38;5;28;01mwith\u001b[39;00m errstate(call=_raise_linalgerror_singular, invalid=\u001b[33m'\u001b[39m\u001b[33mcall\u001b[39m\u001b[33m'\u001b[39m,\n\u001b[32m    608\u001b[39m               over=\u001b[33m'\u001b[39m\u001b[33mignore\u001b[39m\u001b[33m'\u001b[39m, divide=\u001b[33m'\u001b[39m\u001b[33mignore\u001b[39m\u001b[33m'\u001b[39m, under=\u001b[33m'\u001b[39m\u001b[33mignore\u001b[39m\u001b[33m'\u001b[39m):\n\u001b[32m--> \u001b[39m\u001b[32m609\u001b[39m     ainv = \u001b[43m_umath_linalg\u001b[49m\u001b[43m.\u001b[49m\u001b[43minv\u001b[49m\u001b[43m(\u001b[49m\u001b[43ma\u001b[49m\u001b[43m,\u001b[49m\u001b[43m \u001b[49m\u001b[43msignature\u001b[49m\u001b[43m=\u001b[49m\u001b[43msignature\u001b[49m\u001b[43m)\u001b[49m\n\u001b[32m    610\u001b[39m \u001b[38;5;28;01mreturn\u001b[39;00m wrap(ainv.astype(result_t, copy=\u001b[38;5;28;01mFalse\u001b[39;00m))\n",
      "\u001b[36mFile \u001b[39m\u001b[32m/Library/Frameworks/Python.framework/Versions/3.13/lib/python3.13/site-packages/numpy/linalg/_linalg.py:104\u001b[39m, in \u001b[36m_raise_linalgerror_singular\u001b[39m\u001b[34m(err, flag)\u001b[39m\n\u001b[32m    103\u001b[39m \u001b[38;5;28;01mdef\u001b[39;00m\u001b[38;5;250m \u001b[39m\u001b[34m_raise_linalgerror_singular\u001b[39m(err, flag):\n\u001b[32m--> \u001b[39m\u001b[32m104\u001b[39m     \u001b[38;5;28;01mraise\u001b[39;00m LinAlgError(\u001b[33m\"\u001b[39m\u001b[33mSingular matrix\u001b[39m\u001b[33m\"\u001b[39m)\n",
      "\u001b[31mLinAlgError\u001b[39m: Singular matrix"
     ]
    }
   ],
   "source": [
    "#Bai 5\n",
    "import numpy as np\n",
    "A = np.reshape(np.arange(36.0),(6,6))\n",
    "print(A)\n",
    "16 == np.identity(6)\n",
    "print(16)\n",
    "A.size\n",
    "print(A.size)\n",
    "a = np.matrix.diagonal(A)\n",
    "print(a)\n",
    "A = A + 16\n",
    "print(A)\n",
    "vecB = np.array([1., 2., 3., 4., 5., 6.])\n",
    "C = A.dot(vecB)\n",
    "print(C)\n",
    "D = np.array([[1., 2., 3., 4., 5., 6.],[1., 0., 1., 0., 1., 0.]])\n",
    "print(D)\n",
    "E = A.dot(D)\n",
    "print(E)\n",
    "F = np.array([[1., 1.],[2., 0.],[3., 1.],[4., 0.],[5., 1.],[6., 0.]])\n",
    "G = A.dot(F)\n",
    "print(F)\n",
    "print(G)\n",
    "b = np.linalg.inv(A)\n",
    "print(b)"
   ]
  },
  {
   "cell_type": "code",
   "execution_count": 31,
   "id": "89af768e",
   "metadata": {},
   "outputs": [
    {
     "name": "stdout",
     "output_type": "stream",
     "text": [
      "[1 1]\n",
      "[2 1]\n",
      "[3 2]\n",
      "[5 3]\n",
      "[8 5]\n",
      "[13  8]\n",
      "[21 13]\n",
      "[34 21]\n",
      "[55 34]\n",
      "[89 55]\n"
     ]
    }
   ],
   "source": [
    "#Bai 6\n",
    "import numpy as np\n",
    "A = np.array([[1,1], [1,0]])\n",
    "b = np.array([1, 0])\n",
    "n = 10 \n",
    "for i in range(n):\n",
    "    b = A.dot(b)\n",
    "    print(b)\n"
   ]
  },
  {
   "cell_type": "code",
   "execution_count": null,
   "id": "60bff07c",
   "metadata": {},
   "outputs": [
    {
     "name": "stdout",
     "output_type": "stream",
     "text": [
      "{x1: x4 + 160, x2: x4 - 80, x3: x4 + 520}\n"
     ]
    }
   ],
   "source": [
    "#Bai 7\n",
    "import sympy as sp\n",
    "from sympy import Symbol\n",
    "x1 = Symbol('x1')\n",
    "x2 = Symbol('x2')\n",
    "x3 = Symbol('x3')\n",
    "x4 = Symbol('x4')\n",
    "from sympy import solve\n",
    "pt1 = x4+610-450-x1\n",
    "pt2 = x1+400-x2-640\n",
    "pt3 = x2+600-x3\n",
    "pt4 = x3-x4-520\n",
    "nghiem = sp.solve((pt1, pt2, pt3, pt4))\n",
    "print(nghiem)\n"
   ]
  },
  {
   "cell_type": "markdown",
   "id": "c6da0631",
   "metadata": {},
   "source": [
    "#Bai Tap Chuong"
   ]
  },
  {
   "cell_type": "code",
   "execution_count": null,
   "id": "e0147921",
   "metadata": {},
   "outputs": [
    {
     "name": "stdout",
     "output_type": "stream",
     "text": [
      "Problem 1 solution: [-4.4408921e-16  2.0000000e+00]\n",
      "Problem 2 solution: [3. 1. 2.]\n",
      "Problem 3 solution (a, b, c): [ 1. -4.  7.]\n",
      "Problem 4 solution (a, b, c): [-0.11111111 -0.66666667  1.11111111]\n"
     ]
    }
   ],
   "source": [
    "#Bai tap 1\n",
    "#Van de 1\n",
    "import numpy as np\n",
    "A1 = np.array([[1, -1], [2, 3]])\n",
    "b1 = np.array([-2, 6])\n",
    "x1 = np.linalg.solve(A1, b1)\n",
    "print(\"Van de 1:\", x1)\n",
    "#Van de 2\n",
    "A2 = np.array([[1, -1, 0], [2, -1, -1], [1, 1, 1]])\n",
    "b2 = np.array([2, 3, 6])\n",
    "x2 = np.linalg.solve(A2, b2)\n",
    "print(\"Van de 2:\", x2)\n",
    "#Van de 3\n",
    "A3 = np.array([[1, 1, 1], [4, 2, 1], [9, 3, 1]])\n",
    "b3 = np.array([4, 3, 4])\n",
    "x3 = np.linalg.solve(A3, b3)\n",
    "print(\"Van de 3 (a, b, c):\", x3)\n",
    "#Van de 4\n",
    "A4 = np.array([[1, 0, 1], [1, 1, -2], [-2, 2, 1]])\n",
    "b4 = np.array([1, -3, 0])\n",
    "x4 = np.linalg.solve(A4, b4)\n",
    "print(\"Van de 4 (a, b, c):\", x4)\n"
   ]
  },
  {
   "cell_type": "code",
   "execution_count": 2,
   "id": "ccfe7126",
   "metadata": {},
   "outputs": [
    {
     "name": "stdout",
     "output_type": "stream",
     "text": [
      "Van de 1: {x: 0, y: 2}\n",
      "Van de 2: {x: 3, y: 1, z: 2}\n",
      "Van de 3: {a: 1, b: -4, c: 7}\n",
      "Van de 4: {a: -1/9, b: -2/3, c: 10/9}\n"
     ]
    }
   ],
   "source": [
    "#Bai tap 2\n",
    "#Van de 1\n",
    "from sympy import symbols, Eq, solve\n",
    "x, y = symbols('x y')\n",
    "eq1 = Eq(x - y, -2)\n",
    "eq2 = Eq(2*x + 3*y, 6)\n",
    "KQ1 = solve((eq1, eq2), (x, y))\n",
    "print(\"Van de 1:\", KQ1)\n",
    "#Van de 2\n",
    "x, y, z = symbols('x y z')\n",
    "eq1 = Eq(x - y, 2)\n",
    "eq2 = Eq(2*x - y - z, 3)\n",
    "eq3 = Eq(x + y + z, 6)\n",
    "KQ2 = solve((eq1, eq2, eq3), (x, y, z))\n",
    "print(\"Van de 2:\", KQ2)\n",
    "#Van de 3\n",
    "a, b, c = symbols('a b c')\n",
    "eq1 = Eq(a + b + c, 4)\n",
    "eq2 = Eq(4*a + 2*b + c, 3)\n",
    "eq3 = Eq(9*a + 3*b + c, 4)\n",
    "KQ3 = solve((eq1, eq2, eq3), (a, b, c))\n",
    "print(\"Van de 3:\", KQ3)\n",
    "#Van de 4\n",
    "a, b, c = symbols('a b c')\n",
    "eq1 = Eq(a + c, 1)\n",
    "eq2 = Eq(a + b - 2*c, -3)\n",
    "eq3 = Eq(-2*a + 2*b + c, 0)\n",
    "KQ4 = solve((eq1, eq2, eq3), (a, b, c))\n",
    "print(\"Van de 4:\", KQ4)\n",
    "\n",
    "\n",
    "\n"
   ]
  },
  {
   "cell_type": "code",
   "execution_count": null,
   "id": "c959fcd8",
   "metadata": {},
   "outputs": [
    {
     "name": "stdout",
     "output_type": "stream",
     "text": [
      "F^k =\n",
      "⎡8  5⎤\n",
      "⎢    ⎥\n",
      "⎣5  3⎦\n",
      "\n",
      "Fibonacci matrix =\n",
      "⎡8  5⎤\n",
      "⎢    ⎥\n",
      "⎣5  3⎦\n",
      "\n",
      "Hai ma trận bằng nhau? True\n"
     ]
    }
   ],
   "source": [
    "#Bai tap 3\n",
    "from sympy import Matrix, pprint, symbols, Eq\n",
    "from sympy.abc import k\n",
    "F = Matrix([[1, 1], [1, 0]])\n",
    "\n",
    "def luythua(n):\n",
    "    return F**n\n",
    "def fib(n):\n",
    "    if n == 0:\n",
    "        return 0\n",
    "    elif n == 1:\n",
    "        return 1\n",
    "    else:\n",
    "        return fib(n - 1) + fib(n - 2)\n",
    "k_val = 5\n",
    "Fk = luythua(k_val)\n",
    "F_check = Matrix([\n",
    "    [fib(k_val + 1), fib(k_val)],\n",
    "    [fib(k_val), fib(k_val - 1)]\n",
    "])\n",
    "print(\"F^k =\")\n",
    "pprint(Fk)\n",
    "print(\"\\nFibonacci matrix =\")\n",
    "pprint(F_check)\n",
    "print(\"\\nHai ma trận bằng nhau:\", Fk == F_check)\n"
   ]
  }
 ],
 "metadata": {
  "kernelspec": {
   "display_name": "Python 3",
   "language": "python",
   "name": "python3"
  },
  "language_info": {
   "codemirror_mode": {
    "name": "ipython",
    "version": 3
   },
   "file_extension": ".py",
   "mimetype": "text/x-python",
   "name": "python",
   "nbconvert_exporter": "python",
   "pygments_lexer": "ipython3",
   "version": "3.13.0"
  }
 },
 "nbformat": 4,
 "nbformat_minor": 5
}
