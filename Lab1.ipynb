{
 "cells": [
  {
   "cell_type": "markdown",
   "id": "0ea192b2",
   "metadata": {},
   "source": [
    "#Bai thuc hanh"
   ]
  },
  {
   "cell_type": "code",
   "execution_count": 1,
   "id": "22eafff6",
   "metadata": {},
   "outputs": [
    {
     "name": "stdout",
     "output_type": "stream",
     "text": [
      "[1.0, 3.0, 5.0, 7.0]\n",
      "[1.0, 3.0, 5.0, 7.0, 1.0, 3.0, 5.0, 7.0]\n"
     ]
    },
    {
     "ename": "TypeError",
     "evalue": "unsupported operand type(s) for /: 'list' and 'int'",
     "output_type": "error",
     "traceback": [
      "\u001b[31m---------------------------------------------------------------------------\u001b[39m",
      "\u001b[31mTypeError\u001b[39m                                 Traceback (most recent call last)",
      "\u001b[36mCell\u001b[39m\u001b[36m \u001b[39m\u001b[32mIn[1]\u001b[39m\u001b[32m, line 8\u001b[39m\n\u001b[32m      6\u001b[39m danhsachgapdoi = \u001b[32m2\u001b[39m*danhsach\n\u001b[32m      7\u001b[39m \u001b[38;5;28mprint\u001b[39m(danhsachgapdoi)\n\u001b[32m----> \u001b[39m\u001b[32m8\u001b[39m danhsachchiadoi = \u001b[43mdanhsach\u001b[49m\u001b[43m/\u001b[49m\u001b[32;43m2\u001b[39;49m\n\u001b[32m      9\u001b[39m \u001b[38;5;28mprint\u001b[39m(danhsachchiadoi)\n\u001b[32m     10\u001b[39m \u001b[38;5;66;03m#2\u001b[39;00m\n",
      "\u001b[31mTypeError\u001b[39m: unsupported operand type(s) for /: 'list' and 'int'"
     ]
    }
   ],
   "source": [
    "#Bai 1\n",
    "danhsach1 = [1.,3.]\n",
    "danhsach2 = [5.,7.]\n",
    "danhsach = danhsach1 + danhsach2\n",
    "print(danhsach)\n",
    "danhsachgapdoi = 2*danhsach\n",
    "print(danhsachgapdoi)\n",
    "danhsachchiadoi = danhsach/2\n",
    "print(danhsachchiadoi)\n",
    "#2\n",
    "monhoc = [\"ToanCC\", \"DSTT\", \"ToanRR\", \"LaptrinhCB\"]\n",
    "thutu = [2, 3, 4, 1]\n",
    "diemso = [10, 9, 8, 7]\n",
    "anhxa = zip(thutu, monhoc, diemso)\n",
    "print(anhxa)\n",
    "taphop = set(anhxa) \n",
    "print(taphop)\n",
    "lay_TT, lay_monhoc , lay_diem = zip(*anhxa)\n",
    "lay_monhoc\n",
    "#3\n",
    "import itertools\n",
    "tapsinh = list(itertools.chain(range(4), range(5,10), range(15,20)))\n",
    "print(tapsinh)\n",
    "#5\n",
    "list(zip(range(4), range(7, 12), reversed(range(11))))"
   ]
  },
  {
   "cell_type": "code",
   "execution_count": 2,
   "id": "93988fcd",
   "metadata": {},
   "outputs": [
    {
     "name": "stdout",
     "output_type": "stream",
     "text": [
      "3*x + 2\n",
      "3*Chim + 7*Noi\n",
      "Noi\n",
      "Chim\n",
      "2*x*y\n",
      "3*x**2\n",
      "(x + 2)*(y + 3)\n",
      "(x - 3)*(x + 2) + (x + 2)*(y + 3)\n",
      "0\n"
     ]
    },
    {
     "data": {
      "text/latex": [
       "$\\displaystyle x y + 3 x + 2 y + 6$"
      ],
      "text/plain": [
       "x*y + 3*x + 2*y + 6"
      ]
     },
     "execution_count": 2,
     "metadata": {},
     "output_type": "execute_result"
    }
   ],
   "source": [
    "#Bai 2\n",
    "#V1\n",
    "from sympy import Symbol\n",
    "x = Symbol('x')\n",
    "f = x + x + x + 2\n",
    "print(f)\n",
    "#V2\n",
    "a = Symbol('Noi')\n",
    "b = Symbol('Chim')\n",
    "c = 3*b + 7*a\n",
    "print(c)\n",
    "a.name\n",
    "print(a.name)\n",
    "b.name \n",
    "print(b.name)\n",
    "#V3\n",
    "from sympy import Symbol\n",
    "x = Symbol('x')\n",
    "y = Symbol('y')\n",
    "s = x*y + y*x\n",
    "print(s)\n",
    "p = x*(x+2*x)\n",
    "print(p)\n",
    "g = (x+2)*(y+3)\n",
    "print(g)\n",
    "h = (x+2)*(y+3) + (x+2)*(x-3)\n",
    "print(h)\n",
    "j = x*(-x +2*x-x)\n",
    "print(j)\n",
    "k = (x+2)*(y+3)\n",
    "k.expand()"
   ]
  },
  {
   "cell_type": "code",
   "execution_count": 4,
   "id": "aa0e59fd",
   "metadata": {},
   "outputs": [
    {
     "name": "stdout",
     "output_type": "stream",
     "text": [
      "(x - y)*(x**2 + x*y + y**2)\n",
      "x**3 - y**3\n"
     ]
    }
   ],
   "source": [
    "#Bai 3\n",
    "#V1\n",
    "from sympy import factor, Symbol\n",
    "x = Symbol('x')\n",
    "y = Symbol('y')\n",
    "bieuthuc = x**3 - y**3\n",
    "print(factor(bieuthuc))\n",
    "#V2\n",
    "from sympy import expand, Symbol\n",
    "x = Symbol('x')\n",
    "y = Symbol('y')\n",
    "bieu_thuc = (x-y)*(x**2 + x*y + y**2)\n",
    "print(expand(bieu_thuc))"
   ]
  },
  {
   "cell_type": "code",
   "execution_count": 3,
   "id": "35a0406c",
   "metadata": {},
   "outputs": [
    {
     "name": "stdout",
     "output_type": "stream",
     "text": [
      " 2            2\n",
      "x  - 2⋅x⋅y + y \n",
      " 2            2\n",
      "y  - 2⋅x⋅y + x \n",
      "        2\n",
      "(-y + x) \n"
     ]
    }
   ],
   "source": [
    "#Bai 4\n",
    "#V1\n",
    "from sympy import pprint, Symbol\n",
    "x = Symbol('x')\n",
    "y = Symbol('y')\n",
    "bieuthuc = x*x - 2*x*y + y**2 \n",
    "pprint(bieuthuc)\n",
    "#V2\n",
    "from sympy import pprint, Symbol, factor\n",
    "from sympy import init_printing\n",
    "init_printing(order='rev-lex')\n",
    "bieu_thuc = x*x - 2*x*y + y**2\n",
    "pprint(bieu_thuc)\n",
    "bieu_thuc1 = factor(bieu_thuc)\n",
    "pprint(bieu_thuc1)"
   ]
  },
  {
   "cell_type": "code",
   "execution_count": null,
   "id": "77d9a6c5",
   "metadata": {},
   "outputs": [],
   "source": [
    "#Bai 5\n",
    "from sympy import Symbol\n",
    "x = Symbol('x')\n",
    "y = Symbol('y')\n",
    "bieuthuc = x*x -x*y - y*y\n",
    "print(bieuthuc)\n",
    "giatri = bieuthuc.subs({x:3, y:2})\n",
    "print(giatri)\n",
    "print(x)\n",
    "print(y)"
   ]
  },
  {
   "cell_type": "code",
   "execution_count": 5,
   "id": "edbc3355",
   "metadata": {},
   "outputs": [
    {
     "name": "stdout",
     "output_type": "stream",
     "text": [
      "[ 2.  6. 10.]\n",
      "[ 1.  9. 25.]\n",
      "[0.5 1.5 2.5]\n",
      "[ 2.  6. 10.]\n"
     ]
    },
    {
     "ename": "ValueError",
     "evalue": "operands could not be broadcast together with shapes (3,) (2,) ",
     "output_type": "error",
     "traceback": [
      "\u001b[31m---------------------------------------------------------------------------\u001b[39m",
      "\u001b[31mValueError\u001b[39m                                Traceback (most recent call last)",
      "\u001b[36mCell\u001b[39m\u001b[36m \u001b[39m\u001b[32mIn[5]\u001b[39m\u001b[32m, line 14\u001b[39m\n\u001b[32m     12\u001b[39m \u001b[38;5;28mprint\u001b[39m(f)\n\u001b[32m     13\u001b[39m vec2 = array([\u001b[32m2.\u001b[39m, \u001b[32m4.\u001b[39m])\n\u001b[32m---> \u001b[39m\u001b[32m14\u001b[39m g = \u001b[43mvec1\u001b[49m\u001b[43m \u001b[49m\u001b[43m+\u001b[49m\u001b[43m \u001b[49m\u001b[43mvec2\u001b[49m\n\u001b[32m     15\u001b[39m \u001b[38;5;28mprint\u001b[39m(g)\n\u001b[32m     16\u001b[39m vec3 = array([\u001b[32m2.\u001b[39m, \u001b[32m4.\u001b[39m, \u001b[32m6.\u001b[39m])\n",
      "\u001b[31mValueError\u001b[39m: operands could not be broadcast together with shapes (3,) (2,) "
     ]
    }
   ],
   "source": [
    "#Bai 6\n",
    "import numpy as np \n",
    "from numpy import *\n",
    "vec1 = np.array([1., 3., 5.])\n",
    "c = vec1 * 2\n",
    "print(c)\n",
    "d = vec1 * vec1\n",
    "print(d)\n",
    "e = vec1 / 2\n",
    "print(e)\n",
    "f = vec1 + vec1\n",
    "print(f)\n",
    "vec2 = array([2., 4.])\n",
    "g = vec1 + vec2\n",
    "print(g)\n",
    "vec3 = array([2., 4., 6.])\n",
    "h = vec1 + vec3\n",
    "print(h)\n",
    "j = vec1 / vec3 \n",
    "print(j)\n",
    "k = vec1 * vec3\n",
    "print(k)\n",
    "l = 2*vec1 + 5*vec3\n",
    "print(l)\n",
    "n = vec3[2]\n",
    "print(n)\n",
    "vec4 = np.linspace(0, 20, 5)\n",
    "print(vec4)\n",
    "vec5 = np.zeros(5)\n",
    "print(vec5)\n",
    "vec6 = np.ones(5)\n",
    "print(vec6)\n",
    "vec7 = np.empty(5)\n",
    "print(vec7)\n",
    "vec8 = np.random.random(5)\n",
    "print(vec8)\n",
    "v = np.array([1.,3.,5.])\n",
    "v1 = np.sum(v)\n",
    "print(v1)\n",
    "v2 = v.shape \n",
    "print(v2)\n",
    "v3 = v.transpose()\n",
    "print(v3)\n",
    "v4 = v[:2]\n",
    "print(v4)\n",
    "v[0] = 5 \n",
    "print(v)\n",
    "v4[:2] = [1.,2.,3.]\n",
    "print(v4)"
   ]
  },
  {
   "cell_type": "code",
   "execution_count": null,
   "id": "cfdcacac",
   "metadata": {},
   "outputs": [],
   "source": [
    "#Bai 7\n",
    "#T1\n",
    "from sympy import Symbol\n",
    "x = Symbol('x')\n",
    "y = Symbol('')\n",
    "bieuthuc = x**2 - 3*x + 9\n",
    "giatri = bieuthuc.subs({x: 3, y: x})\n",
    "print(giatri)\n",
    "#T2 \n",
    "from sympy import Symbol\n",
    "x = Symbol('x')\n",
    "y = Symbol('y')\n",
    "bieuthuc = x**2 - 3*x + 9\n",
    "giatri = bieuthuc.subs({x: y, y: 3})\n",
    "print(giatri) \n",
    "#T3\n",
    "from sympy import Symbol\n",
    "x = Symbol('x')\n",
    "y = Symbol('y')\n",
    "bieuthuc = x**2 - 3*x + 9\n",
    "giatri = bieuthuc.subs({y: x}).subs({x: 3})\n",
    "print(giatri)\n",
    "#T4\n",
    "from sympy import Symbol\n",
    "x = Symbol('x')\n",
    "y = Symbol('y')\n",
    "bieuthuc = x*x - x*y + y*y\n",
    "print(bieuthuc)\n",
    "bieuthuc_moi = bieuthuc.subs({x:1-y}) \n",
    "print(bieuthuc_moi)\n",
    "from sympy import simplify\n",
    "dongian = simplify(bieuthuc_moi)\n",
    "print(dongian)\n",
    "#T5\n",
    "from sympy import Symbol\n",
    "from sympy import sin, cos\n",
    "x = Symbol('x')\n",
    "y = Symbol('y')\n",
    "bt = sin(x)*cos(y) + cos(x)*sin(y)\n",
    "bt_moi = simplify(bt)\n",
    "print(bt_moi)"
   ]
  },
  {
   "cell_type": "markdown",
   "id": "167330ce",
   "metadata": {},
   "source": [
    "#Bai tap chuong"
   ]
  },
  {
   "cell_type": "code",
   "execution_count": null,
   "id": "a3d59f5b",
   "metadata": {},
   "outputs": [],
   "source": [
    "#Bai 1\n",
    "from sympy import Symbol, solve\n",
    "#1\n",
    "x = Symbol('x')\n",
    "bieuthuc = x + 3 - 5\n",
    "nghiem = solve(bieuthuc)\n",
    "print(\"Nghiệm của phương trình x + 3 - 5 = 0 là:\", nghiem)\n",
    "#2\n",
    "bieuthuc = x**2 + 3 - 5  \n",
    "nghiemx = solve(bieuthuc)\n",
    "print(\"Nghiệm của phương trình x^2 + 3 - 5 = 0 là:\", nghiemx)\n",
    "print(\"Nghiệm thứ nhất:\", nghiemx[0])\n",
    "print(\"Nghiệm thứ hai:\", nghiemx[1])"
   ]
  },
  {
   "cell_type": "code",
   "execution_count": null,
   "id": "baf6848d",
   "metadata": {},
   "outputs": [],
   "source": [
    "#Bai 2\n",
    "from sympy import Symbol, solve\n",
    "#1\n",
    "x = Symbol('x')\n",
    "ptb2 = x**2 + 9*x + 8\n",
    "nghiem = solve(ptb2, dict=True)\n",
    "print(\"Nghiệm của phương trình là:\", nghiem)\n",
    "#2\n",
    "ptb2 = x**2 + x + 10\n",
    "nghiemx = solve(ptb2, dict=True)\n",
    "print(\"Nghiệm của x là:\", nghiemx)"
   ]
  },
  {
   "cell_type": "code",
   "execution_count": null,
   "id": "aa0759ef",
   "metadata": {},
   "outputs": [],
   "source": [
    "#Bai 3\n",
    "from sympy import Symbol, solve\n",
    "x = Symbol('x')\n",
    "a = Symbol('a')\n",
    "b = Symbol('b')\n",
    "c = Symbol('c')\n",
    "ptb2 = a * x**2 + b * x + c\n",
    "nghiem = solve(ptb2, x, dict=True)\n",
    "print(\"Nghiệm tổng quát của phương trình là:\", nghiem)"
   ]
  },
  {
   "cell_type": "code",
   "execution_count": null,
   "id": "6f6dc942",
   "metadata": {},
   "outputs": [],
   "source": [
    "#Bai 4\n",
    "from sympy import Symbol, solve\n",
    "x = Symbol('x')\n",
    "y = Symbol('y')\n",
    "pt1 = 2*x + 3*y - 12\n",
    "pt2 = 3*x - 2*y - 5\n",
    "nghiem = solve((pt1, pt2), dict=True)\n",
    "print(\"Nghiệm của hệ phương trình là:\",nghiem)\n",
    "nghiem = nghiem[0]\n",
    "print(\"Kiểm tra pt1 với nghiệm vừa tìm:\", pt1.subs({x: nghiem[x], y: nghiem[y]}))\n",
    "print(\"Kiểm tra pt2 với nghiệm vừa tìm:\", pt2.subs({x: nghiem[x], y: nghiem[y]}))"
   ]
  },
  {
   "cell_type": "code",
   "execution_count": 6,
   "id": "7bc858b5",
   "metadata": {},
   "outputs": [
    {
     "name": "stdout",
     "output_type": "stream",
     "text": [
      "Ma trận M1: [[ 9 12]\n",
      " [23 30]]\n",
      "Vector u: [2 1]\n",
      "Kết quả M1.dot(u): [30 76]\n",
      "Kết quả u.dot(M1): [41 54]\n",
      "Kết quả np.dot(M1, u): [30 76]\n",
      "\n",
      "Kết quả np.dot(u, M1): [41 54]\n",
      "[[0. 0. 0. 0. 0.]\n",
      " [0. 0. 0. 0. 0.]\n",
      " [0. 0. 0. 0. 0.]\n",
      " [0. 0. 0. 0. 0.]\n",
      " [0. 0. 0. 0. 0.]]\n",
      "[[1. 1. 1. 1. 1.]\n",
      " [1. 1. 1. 1. 1.]\n",
      " [1. 1. 1. 1. 1.]\n",
      " [1. 1. 1. 1. 1.]\n",
      " [1. 1. 1. 1. 1.]]\n",
      "[[2. 2. 2. 2. 2.]\n",
      " [2. 2. 2. 2. 2.]\n",
      " [2. 2. 2. 2. 2.]\n",
      " [2. 2. 2. 2. 2.]\n",
      " [2. 2. 2. 2. 2.]]\n",
      "[[ 2.  2.  2.  2.  2.]\n",
      " [ 2.  2.  2.  2.  2.]\n",
      " [ 2.  2.  2.  2.  2.]\n",
      " [ 2.  2. 10.  2.  2.]\n",
      " [ 2.  2.  2.  2.  2.]]\n",
      "[[ 2.  2.  2.  2.  2.]\n",
      " [ 2.  2.  2.  2.  2.]\n",
      " [ 2.  2.  2.  2.  2.]\n",
      " [ 2.  2. 10.  2.  2.]\n",
      " [ 2.  2.  2.  2.  2.]]\n",
      "[[0. 0. 0. 0. 0.]\n",
      " [0. 0. 0. 0. 0.]\n",
      " [0. 0. 0. 0. 0.]\n",
      " [0. 0. 0. 0. 0.]]\n",
      "[[1. 0. 0. 0.]\n",
      " [0. 1. 0. 0.]\n",
      " [0. 0. 1. 0.]\n",
      " [0. 0. 0. 1.]]\n",
      "[[0.0956154  0.00171092 0.92108125 0.27273043 0.9980311 ]\n",
      " [0.46886654 0.86935662 0.0088792  0.82018015 0.43542385]\n",
      " [0.1107268  0.4152668  0.92218844 0.63650895 0.95321012]\n",
      " [0.44697991 0.27186639 0.96891999 0.82779928 0.92779559]]\n"
     ]
    }
   ],
   "source": [
    "#Bai 5\n",
    "import numpy as np\n",
    "M1 = np.array([[9, 12], [23, 30]])\n",
    "print(\"Ma trận M1:\", M1)\n",
    "u = np.array([2, 1])\n",
    "print(\"Vector u:\", u)\n",
    "tichM1u = M1.dot(u)\n",
    "print(\"Kết quả M1.dot(u):\", tichM1u)\n",
    "tichuM1 = u.dot(M1)\n",
    "print(\"Kết quả u.dot(M1):\", tichuM1)\n",
    "print(\"Kết quả np.dot(M1, u):\", np.dot(M1, u))\n",
    "print(\"\\nKết quả np.dot(u, M1):\", np.dot(u, M1))\n",
    "#2 Các lệnh\n",
    "mat1 = np.zeros([5,5])\n",
    "print(mat1)\n",
    "mat2 = np.ones( [5,5])\n",
    "print(mat2)\n",
    "mat3 = mat1 + 2* mat2\n",
    "print(mat3)\n",
    "mat4 = mat3\n",
    "mat3[3][2] = 10\n",
    "print(mat4)\n",
    "mat5 = np.copy(mat3)\n",
    "mat3[3][2] = 10\n",
    "print(mat5)\n",
    "mat6 = np.empty([4, 5])\n",
    "print(mat6)\n",
    "mat7 = np.identity(4)\n",
    "print(mat7)\n",
    "mat8 = np.random.random([4,5])\n",
    "print(mat8)"
   ]
  }
 ],
 "metadata": {
  "kernelspec": {
   "display_name": "Python 3",
   "language": "python",
   "name": "python3"
  },
  "language_info": {
   "codemirror_mode": {
    "name": "ipython",
    "version": 3
   },
   "file_extension": ".py",
   "mimetype": "text/x-python",
   "name": "python",
   "nbconvert_exporter": "python",
   "pygments_lexer": "ipython3",
   "version": "3.13.0"
  }
 },
 "nbformat": 4,
 "nbformat_minor": 5
}
