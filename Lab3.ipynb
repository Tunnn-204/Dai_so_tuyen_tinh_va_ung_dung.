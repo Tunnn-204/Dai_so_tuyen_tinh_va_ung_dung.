{
 "cells": [
  {
   "cell_type": "markdown",
   "id": "d6c9bee7",
   "metadata": {},
   "source": [
    "#Bai thuc hanh "
   ]
  },
  {
   "cell_type": "code",
   "execution_count": null,
   "id": "c0bc339d",
   "metadata": {},
   "outputs": [
    {
     "name": "stdout",
     "output_type": "stream",
     "text": [
      "[1 2 3]\n",
      "[[1.+9.j 0.+2.j 0.+3.j]\n",
      " [0.+4.j 0.+5.j 0.+6.j]]\n",
      "[[[ 0.5  1.5 10. ]\n",
      "  [ 3.   2.   1. ]]\n",
      "\n",
      " [[ 6.   5.   4. ]\n",
      "  [ 7.   8.   9. ]]]\n",
      "[[0.06431989 0.79351307]\n",
      " [0.86737041 0.97253905]]\n",
      "[[1.+9.j 0.+2.j 0.+3.j]\n",
      " [0.+4.j 0.+5.j 0.+6.j]]\n",
      "[[0.60591814 0.81906582 0.3043514  0.11219464 0.83737702]\n",
      " [0.13085145 0.72262583 0.89944635 0.25655493 0.86399707]\n",
      " [0.04452376 0.66979391 0.37806509 0.05781912 0.84760822]\n",
      " [0.94486073 0.25455138 0.14049912 0.62008666 0.28619648]\n",
      " [0.12983942 0.18366115 0.7255365  0.74263391 0.02048635]\n",
      " [0.03523158 0.42154264 0.96379619 0.18769034 0.34576263]\n",
      " [0.83112417 0.0143808  0.02346258 0.4687112  0.63773792]\n",
      " [0.33632694 0.57843903 0.70299641 0.89708856 0.69877496]\n",
      " [0.79131985 0.43001334 0.91042631 0.37039364 0.49662955]\n",
      " [0.4592744  0.63673373 0.90249172 0.72755356 0.51744623]]\n",
      "[[4 3]\n",
      " [2 6]]\n",
      "[[0. 1. 0.]\n",
      " [0. 0. 1.]\n",
      " [0. 0. 0.]]\n",
      "[[1. 0. 0.]\n",
      " [0. 1. 0.]\n",
      " [0. 0. 1.]]\n",
      "[[0. 0. 0.]\n",
      " [1. 0. 0.]\n",
      " [0. 1. 0.]]\n"
     ]
    }
   ],
   "source": [
    "#Bai 1\n",
    "from scipy import linalg\n",
    "import numpy as np\n",
    "a = np.array([1, 2, 3])\n",
    "print(a)\n",
    "b = np.array([(1+9j, 2j, 3j), (4j, 5j, 6j)])\n",
    "print(b)\n",
    "c = np.array([[(0.5, 1.5, 10), (3,2,1)],[(6,5,4), (7,8,9)]])\n",
    "print(c)\n",
    "A = np.matrix(np.random.random((2,2)))\n",
    "print(A)\n",
    "B = np.asmatrix(b)\n",
    "print(B)\n",
    "C = np.matrix(np.random.random((10,5)))\n",
    "print(C)\n",
    "D = np.matrix([[4, 3], [2, 6]])\n",
    "print(D)\n",
    "F = np.eye(3, k=1)\n",
    "print(F)\n",
    "F1 = np.eye(3, k=0)\n",
    "print(F1)\n",
    "F2 = np.eye(3, k=-1)\n",
    "print(F2)"
   ]
  },
  {
   "cell_type": "code",
   "execution_count": 10,
   "id": "f616c4dc",
   "metadata": {},
   "outputs": [
    {
     "name": "stdout",
     "output_type": "stream",
     "text": [
      "[[0.68856715 0.73264183]\n",
      " [0.43447737 0.2366873 ]]\n",
      "5\n",
      "[[-1.52366086  4.71633955]\n",
      " [ 2.79692306 -4.43261137]]\n",
      "[[-1.52366086  4.71633955]\n",
      " [ 2.79692306 -4.43261137]]\n",
      "-0.15534119596298201\n",
      "[[0.68856715 0.43447737]\n",
      " [0.73264183 0.2366873 ]]\n",
      "[[0.68856715 0.43447737]\n",
      " [0.73264183 0.2366873 ]]\n"
     ]
    }
   ],
   "source": [
    "#Xu ly don gian\n",
    "from scipy import linalg\n",
    "import numpy as np\n",
    "A = np.matrix(np.random.random((2,2)))\n",
    "print(A)\n",
    "F3 = np.linalg.matrix_rank(C)\n",
    "print(F3)\n",
    "F4 = A.I\n",
    "print(F4)\n",
    "F5 = linalg.inv(A)\n",
    "print(F5)\n",
    "F6 = linalg.det(A)\n",
    "print(F6)\n",
    "F7 = A.T\n",
    "print(F7)\n",
    "F8 = A.H\n",
    "print(F8)\n"
   ]
  },
  {
   "cell_type": "code",
   "execution_count": 11,
   "id": "14a488aa",
   "metadata": {},
   "outputs": [
    {
     "name": "stdout",
     "output_type": "stream",
     "text": [
      "[1 2 3]\n",
      "[[1.+9.j 0.+2.j 0.+3.j]\n",
      " [0.+4.j 0.+5.j 0.+6.j]]\n",
      "[[0.30351773 0.86490532]\n",
      " [0.45394513 0.6739332 ]]\n",
      "[[0. 1. 0.]\n",
      " [0. 0. 1.]\n",
      " [0. 0. 0.]]\n",
      "[[-3.58343803-13.85544177j  0.        +15.82749955j\n",
      "   0.        +16.84293664j]\n",
      " [ 2.41371735+15.26799746j  0.         -3.24188868j\n",
      "   0.         -2.442036j  ]]\n",
      "[[1]\n",
      " [2]\n",
      " [3]]\n",
      "(array([[0.],\n",
      "       [1.],\n",
      "       [2.]]), array([], dtype=float64), 2, array([1., 1., 0.]))\n"
     ]
    }
   ],
   "source": [
    "#Phuong trinh toan tinh\n",
    "from scipy import linalg\n",
    "import numpy as np\n",
    "a = np.array([1, 2, 3])\n",
    "print(a)\n",
    "b = np.array([(1+9j, 2j, 3j), (4j, 5j, 6j)])\n",
    "print(b)\n",
    "A = np.matrix(np.random.random((2,2)))\n",
    "print(A)\n",
    "F = np.eye(3, k=1)\n",
    "print(F)\n",
    "F9 = linalg.solve(A, b)\n",
    "print(F9)\n",
    "E = np.matrix(a).T\n",
    "print(E)\n",
    "E1 = linalg.lstsq(F, E)\n",
    "print(E1)"
   ]
  },
  {
   "cell_type": "code",
   "execution_count": 14,
   "id": "8b324275",
   "metadata": {},
   "outputs": [
    {
     "name": "stdout",
     "output_type": "stream",
     "text": [
      "[[0.91337688 0.73481931]\n",
      " [0.0402339  0.68887073]]\n",
      "[[4 3]\n",
      " [2 6]]\n",
      "[[4.91337688 3.73481931]\n",
      " [2.0402339  6.68887073]]\n",
      "[[-3.08662312 -2.26518069]\n",
      " [-1.9597661  -5.31112927]]\n",
      "[[0.22834422 0.24493977]\n",
      " [0.02011695 0.11481179]]\n",
      "[[3.65350752]]\n",
      "[[2.52704793 1.64873919]\n",
      " [0.09027419 2.0233158 ]]\n",
      "[[-0.11240294  0.9381537 ]\n",
      " [ 0.05136717 -0.39903297]]\n"
     ]
    }
   ],
   "source": [
    "#Cac ham ma tran\n",
    "from scipy import linalg\n",
    "import numpy as np\n",
    "A = np.matrix(np.random.random((2,2)))\n",
    "print(A)\n",
    "D = np.matrix([[4, 3], [2, 6]])\n",
    "print(D)\n",
    "H1 = np.add(A, D)\n",
    "print(H1)\n",
    "H2 = np.subtract(A, D)\n",
    "print(H2)\n",
    "H3 = np.divide(A, D)\n",
    "print(H3)\n",
    "H4 = A @ D \n",
    "H4 = np.multiply(D, A)\n",
    "H4 = np.dot(A, D)\n",
    "H4 = np.vdot(A, D)\n",
    "print(H4)\n",
    "H5 = linalg.expm(A)\n",
    "print(H5)\n",
    "H6 = linalg.logm(A)\n",
    "print(H6)\n"
   ]
  },
  {
   "cell_type": "code",
   "execution_count": 15,
   "id": "a043537a",
   "metadata": {},
   "outputs": [
    {
     "name": "stdout",
     "output_type": "stream",
     "text": [
      "[[0 1]\n",
      " [1 0]]\n",
      "[[1 0]\n",
      " [0 1]]\n",
      "[[0 1]\n",
      " [1 0]]\n",
      "---\n",
      "[[1 0]\n",
      " [0 1]]\n",
      "---\n",
      "[[0 1]\n",
      " [1 0]]\n",
      "---\n",
      "[[1 0]\n",
      " [0 1]]\n",
      "---\n",
      "[[0 1]\n",
      " [1 0]]\n",
      "---\n",
      "[[ 0 -1]\n",
      " [-1  0]]\n",
      "[[1 0]\n",
      " [0 1]]\n",
      "[[ 0 -1]\n",
      " [-1  0]]\n",
      "---\n",
      "[[1 0]\n",
      " [0 1]]\n",
      "---\n",
      "[[ 0 -1]\n",
      " [-1  0]]\n",
      "---\n",
      "[[1 0]\n",
      " [0 1]]\n",
      "---\n"
     ]
    }
   ],
   "source": [
    "#Bai 2\n",
    "import numpy as np\n",
    "#Ma tran A\n",
    "A = np.array([[0,1],[1,0]])\n",
    "print(A)\n",
    "temp = A.dot(A)\n",
    "print(temp)\n",
    "k = 6 \n",
    "for i in range(k-1):\n",
    "    temp = temp.dot(A)\n",
    "    print(temp)\n",
    "    print('---')\n",
    "#Ma tran B\n",
    "B = np.array([ [0,-1], [-1,0]])\n",
    "print(B)\n",
    "temp = B.dot(B)\n",
    "print(temp)\n",
    "k = 5\n",
    "for i in range(k-1):\n",
    "    temp = temp.dot(B)\n",
    "    print(temp)\n",
    "    print('---')\n",
    "    "
   ]
  },
  {
   "cell_type": "code",
   "execution_count": 16,
   "id": "f360008d",
   "metadata": {},
   "outputs": [
    {
     "name": "stdout",
     "output_type": "stream",
     "text": [
      "[[1.  0.  0. ]\n",
      " [0.  0.5 1. ]\n",
      " [0.  0.  0.5]]\n",
      "[[1.   0.   0.  ]\n",
      " [0.   0.25 1.  ]\n",
      " [0.   0.   0.25]]\n",
      "[[1.00000000e+000 0.00000000e+000 0.00000000e+000]\n",
      " [0.00000000e+000 4.66631809e-302 9.34196882e-299]\n",
      " [0.00000000e+000 0.00000000e+000 4.66631809e-302]]\n",
      "[[1. 0. 0.]\n",
      " [0. 0. 0.]\n",
      " [0. 0. 0.]]\n"
     ]
    }
   ],
   "source": [
    "#Ma tran hoi tu\n",
    "import numpy as np\n",
    "C = np.array([[1, 0, 0], [0, 0.5, 1], [0, 0, 0.5]])\n",
    "print(C)\n",
    "temp = C.dot(C) \n",
    "print(temp)\n",
    "k= 1000\n",
    "for i in range(k-1):\n",
    "    temp = temp.dot(C)\n",
    "print(temp)\n",
    "k= 1000\n",
    "for i in range(k-1):\n",
    "    temp = temp.dot(C)\n",
    "print(temp)\n"
   ]
  },
  {
   "cell_type": "code",
   "execution_count": 17,
   "id": "f4f9adb6",
   "metadata": {},
   "outputs": [
    {
     "name": "stdout",
     "output_type": "stream",
     "text": [
      "[[0.7  0.45]\n",
      " [0.3  0.55]]\n",
      "[[0.7  0.45]\n",
      " [0.3  0.55]]\n",
      "[[0.6 0.6]\n",
      " [0.4 0.4]]\n"
     ]
    }
   ],
   "source": [
    "#Bai 3\n",
    "import numpy as np\n",
    "M = np.array([[0.8, 0.3], [0.2, 0.7]])\n",
    "MM = M.dot(M) \n",
    "print (MM)\n",
    "MM = M.dot(M)\n",
    "print(MM)\n",
    "for i in range(100):\n",
    "    MM = MM.dot(M)\n",
    "print(MM)"
   ]
  },
  {
   "cell_type": "code",
   "execution_count": 18,
   "id": "b441fb79",
   "metadata": {},
   "outputs": [
    {
     "name": "stdout",
     "output_type": "stream",
     "text": [
      "[[0.5 0.5]\n",
      " [0.5 0.5]]\n",
      "[[0.5 0.5]\n",
      " [0.5 0.5]]\n",
      "[[0.5 0.5]\n",
      " [0.5 0.5]]\n"
     ]
    }
   ],
   "source": [
    "#Bai 3\n",
    "import numpy as np\n",
    "M = np.array([[0.5, 0.5], [0.5, 0.5]])\n",
    "MM = M.dot(M) \n",
    "print (MM)\n",
    "MM = M.dot(M)\n",
    "print(MM)\n",
    "for i in range(100):\n",
    "    MM = MM.dot(M)\n",
    "print(MM)"
   ]
  },
  {
   "cell_type": "code",
   "execution_count": 19,
   "id": "e2c62e9e",
   "metadata": {},
   "outputs": [
    {
     "name": "stdout",
     "output_type": "stream",
     "text": [
      "[[1. 0.]\n",
      " [0. 1.]]\n",
      "[[1.   0.  ]\n",
      " [0.25 1.  ]]\n",
      "[[0.8   0.3  ]\n",
      " [0.    0.625]]\n",
      "[[0.8 0.3]\n",
      " [0.2 0.7]]\n"
     ]
    }
   ],
   "source": [
    "#Bai 4\n",
    "M = np.array([ [0.8, 0.3], [0.2, 0.7]])\n",
    "P, L, U = linalg.lu(M) \n",
    "print (P)\n",
    "\n",
    "print (L)\n",
    "\n",
    "print (U)\n",
    "U1 = L.dot(U)\n",
    "print(U1)\n"
   ]
  },
  {
   "cell_type": "code",
   "execution_count": 1,
   "id": "ba88b9e0",
   "metadata": {},
   "outputs": [
    {
     "name": "stdout",
     "output_type": "stream",
     "text": [
      "Kết quả O.C: [-12  -5 116]\n",
      "Kết quả _DU: [ 20 -20 -86]\n",
      "Kết quả ~L: [ 47 -80  10]\n",
      "Kết quả Ê.: [ 37 -49 -85]\n",
      "Kết quả UU: [ 25 -50  15]\n"
     ]
    }
   ],
   "source": [
    "#Toan Ung Dung 1\n",
    "import numpy as np\n",
    "A = np.array([\n",
    "    [1, -2, 2],\n",
    "    [-1, 1, 3],\n",
    "    [1, -1, -4]\n",
    "])\n",
    "vectors = {\n",
    "    \"O.C\": np.array([17, 34, 5]),\n",
    "    \"_DU\": np.array([0, 6, 26]),\n",
    "    \"~L\": np.array([33, 0, 14]),\n",
    "    \"Ê.\": np.array([12, 9, 34]),\n",
    "    \"UU\": np.array([25, 35, 35])\n",
    "}\n",
    "for label, vec in vectors.items():\n",
    "    result = vec @ A\n",
    "    print(f\"Kết quả {label}: {result}\")\n",
    "\n"
   ]
  },
  {
   "cell_type": "code",
   "execution_count": 2,
   "id": "4e3ab33a",
   "metadata": {},
   "outputs": [
    {
     "name": "stdout",
     "output_type": "stream",
     "text": [
      "A^2:\n",
      "[[1 1 1 0]\n",
      " [0 0 1 1]\n",
      " [1 1 1 1]\n",
      " [0 1 1 1]]\n",
      "\n",
      "A^3:\n",
      "[[0 1 2 2]\n",
      " [1 1 1 1]\n",
      " [1 2 2 2]\n",
      " [1 1 2 1]]\n",
      "\n",
      "A + A^2 + A^3: [[1 3 3 3]\n",
      " [1 1 3 2]\n",
      " [2 3 4 4]\n",
      " [2 3 3 2]]\n"
     ]
    }
   ],
   "source": [
    "#Toan Ung Dung 2\n",
    "import numpy as np\n",
    "A = np.array([\n",
    "    [0, 1, 0, 1],\n",
    "    [0, 0, 1, 0],\n",
    "    [0, 0, 1, 1],\n",
    "    [1, 1, 0, 0]\n",
    "])\n",
    "temp = A.dot(A)\n",
    "print(\"A^2:\")\n",
    "print(temp)\n",
    "print()\n",
    "# Tính A^3\n",
    "temp = temp.dot(A)\n",
    "print(\"A^3:\")\n",
    "print(temp)\n",
    "print()\n",
    "\n",
    "sumA = A.copy()\n",
    "temp = A.copy()\n",
    "k = 3  \n",
    "for i in range(1, k):\n",
    "    temp = temp.dot(A)\n",
    "    sumA = sumA + temp\n",
    "print(\"A + A^2 + A^3:\", sumA)\n",
    "\n"
   ]
  },
  {
   "cell_type": "code",
   "execution_count": 3,
   "id": "c70c0922",
   "metadata": {},
   "outputs": [
    {
     "name": "stdout",
     "output_type": "stream",
     "text": [
      "Định thức của A: -1.0\n",
      "Ma trận khả nghịch. Ma trận nghịch đảo là:\n",
      "[[-3.  5.  2.]\n",
      " [ 1. -1. -1.]\n",
      " [ 2. -3. -1.]]\n",
      "Mã hóa (ma trận):\n",
      "[[679]\n",
      " [343]\n",
      " [219]]\n",
      "Giải mã được chuỗi:\n",
      "tun\n"
     ]
    }
   ],
   "source": [
    "#Bai tap 1\n",
    "import numpy as np\n",
    "#a\n",
    "A = np.array([\n",
    "    [2, 1, 3],\n",
    "    [1, 1, 1],\n",
    "    [1, -1, 2]\n",
    "])\n",
    "det = np.linalg.det(A)\n",
    "print(\"Định thức của A:\", det)\n",
    "if det == 0:\n",
    "    print(\"Ma trận không khả nghịch.\")\n",
    "else:\n",
    "    print(\"Ma trận khả nghịch. Ma trận nghịch đảo là:\")\n",
    "    A_inv = np.linalg.inv(A)\n",
    "    print(A_inv)\n",
    "#b\n",
    "text = input(\"Nhập họ tên hoặc mã số sinh viên: \")\n",
    "#c\n",
    "while len(text) % 3 != 0:\n",
    "    text += ' '  \n",
    "ascii_vals = [ord(c) for c in text]\n",
    "matrix_text = np.array(ascii_vals).reshape(-1, 3).T  \n",
    "encoded = A.dot(matrix_text)\n",
    "print(\"Mã hóa (ma trận):\")\n",
    "print(encoded)\n",
    "#d\n",
    "decoded_matrix = A_inv.dot(encoded).round().astype(int)\n",
    "decoded_chars = [chr(i) for i in decoded_matrix.T.flatten()]\n",
    "decoded_text = ''.join(decoded_chars).strip()\n",
    "print(\"Giải mã được chuỗi:\")\n",
    "print(decoded_text)\n"
   ]
  },
  {
   "cell_type": "code",
   "execution_count": 4,
   "id": "ff0cf4fa",
   "metadata": {},
   "outputs": [
    {
     "name": "stdout",
     "output_type": "stream",
     "text": [
      "Chuỗi hệ số: [3, 1, 2]\n",
      "Phân số tương ứng: 11/3 = 3.6666666666666665\n"
     ]
    }
   ],
   "source": [
    "#Bai tap 2\n",
    "import numpy as np\n",
    "def continued_fraction(c):\n",
    "    \"\"\"\n",
    "    Tính phân số p_n / q_n từ dãy liên phân số [c0, c1, ..., cn]\n",
    "    \"\"\"\n",
    "    n = len(c)\n",
    "    M = np.array([[1, 0], [0, 1]])\n",
    "    for ci in c:\n",
    "        Mi = np.array([[ci, 1], [1, 0]])\n",
    "        M = np.dot(M, Mi)\n",
    "\n",
    "    pn = M[0][0]\n",
    "    qn = M[1][0]\n",
    "    return pn, qn\n",
    "coeffs = [3, 1, 2]\n",
    "pn, qn = continued_fraction(coeffs)\n",
    "print(f\"Chuỗi hệ số: {coeffs}\")\n",
    "print(f\"Phân số tương ứng: {pn}/{qn} = {pn/qn}\")\n"
   ]
  }
 ],
 "metadata": {
  "kernelspec": {
   "display_name": "Python 3",
   "language": "python",
   "name": "python3"
  },
  "language_info": {
   "codemirror_mode": {
    "name": "ipython",
    "version": 3
   },
   "file_extension": ".py",
   "mimetype": "text/x-python",
   "name": "python",
   "nbconvert_exporter": "python",
   "pygments_lexer": "ipython3",
   "version": "3.13.0"
  }
 },
 "nbformat": 4,
 "nbformat_minor": 5
}
